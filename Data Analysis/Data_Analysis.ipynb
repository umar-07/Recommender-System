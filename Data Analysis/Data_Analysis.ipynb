{
 "cells": [
  {
   "cell_type": "markdown",
   "id": "85c323d1",
   "metadata": {},
   "source": [
    "# Exploratory Data Analysis"
   ]
  },
  {
   "cell_type": "markdown",
   "id": "06ff0dbd",
   "metadata": {},
   "source": [
    "### Importing Libraries"
   ]
  },
  {
   "cell_type": "markdown",
   "id": "e351a423",
   "metadata": {},
   "source": [
    "Importing general libraries for working with the data and graphs: numpy, pandas, matplotlib, seaborn."
   ]
  },
  {
   "cell_type": "code",
   "execution_count": 2,
   "id": "48c2f8f1",
   "metadata": {},
   "outputs": [],
   "source": [
    "import pandas as pd\n",
    "import numpy as np\n",
    "import matplotlib.pyplot as plt\n",
    "import seaborn as sns\n",
    "%matplotlib inline"
   ]
  },
  {
   "cell_type": "markdown",
   "id": "01d439c6",
   "metadata": {},
   "source": [
    "I am working with 10k data only for now and not the whole data. Previously I loaded the raw data, converted it into a dataframe and saved it inside data.csv, I will be using \"data.csv\" for analysing the data."
   ]
  },
  {
   "cell_type": "code",
   "execution_count": 3,
   "id": "ccaee065",
   "metadata": {},
   "outputs": [
    {
     "data": {
      "text/plain": [
       "(39967, 4)"
      ]
     },
     "execution_count": 3,
     "metadata": {},
     "output_type": "execute_result"
    }
   ],
   "source": [
    "# Loading the data\n",
    "\n",
    "df = pd.read_csv('C:/Users/umar/Documents/Machine Learning/Recommender System/Data Analysis/data.csv', index_col=0)\n",
    "df.shape"
   ]
  },
  {
   "cell_type": "code",
   "execution_count": 4,
   "id": "622f4f00",
   "metadata": {},
   "outputs": [
    {
     "data": {
      "text/html": [
       "<div>\n",
       "<style scoped>\n",
       "    .dataframe tbody tr th:only-of-type {\n",
       "        vertical-align: middle;\n",
       "    }\n",
       "\n",
       "    .dataframe tbody tr th {\n",
       "        vertical-align: top;\n",
       "    }\n",
       "\n",
       "    .dataframe thead th {\n",
       "        text-align: right;\n",
       "    }\n",
       "</style>\n",
       "<table border=\"1\" class=\"dataframe\">\n",
       "  <thead>\n",
       "    <tr style=\"text-align: right;\">\n",
       "      <th></th>\n",
       "      <th>Cust_Id</th>\n",
       "      <th>Movie_Id</th>\n",
       "      <th>Rating</th>\n",
       "      <th>Date</th>\n",
       "    </tr>\n",
       "  </thead>\n",
       "  <tbody>\n",
       "    <tr>\n",
       "      <th>0</th>\n",
       "      <td>1488844</td>\n",
       "      <td>1</td>\n",
       "      <td>3.0</td>\n",
       "      <td>2005-09-06</td>\n",
       "    </tr>\n",
       "    <tr>\n",
       "      <th>1</th>\n",
       "      <td>822109</td>\n",
       "      <td>1</td>\n",
       "      <td>5.0</td>\n",
       "      <td>2005-05-13</td>\n",
       "    </tr>\n",
       "    <tr>\n",
       "      <th>2</th>\n",
       "      <td>885013</td>\n",
       "      <td>1</td>\n",
       "      <td>4.0</td>\n",
       "      <td>2005-10-19</td>\n",
       "    </tr>\n",
       "    <tr>\n",
       "      <th>3</th>\n",
       "      <td>30878</td>\n",
       "      <td>1</td>\n",
       "      <td>4.0</td>\n",
       "      <td>2005-12-26</td>\n",
       "    </tr>\n",
       "    <tr>\n",
       "      <th>4</th>\n",
       "      <td>823519</td>\n",
       "      <td>1</td>\n",
       "      <td>3.0</td>\n",
       "      <td>2004-05-03</td>\n",
       "    </tr>\n",
       "  </tbody>\n",
       "</table>\n",
       "</div>"
      ],
      "text/plain": [
       "   Cust_Id  Movie_Id  Rating        Date\n",
       "0  1488844         1     3.0  2005-09-06\n",
       "1   822109         1     5.0  2005-05-13\n",
       "2   885013         1     4.0  2005-10-19\n",
       "3    30878         1     4.0  2005-12-26\n",
       "4   823519         1     3.0  2004-05-03"
      ]
     },
     "execution_count": 4,
     "metadata": {},
     "output_type": "execute_result"
    }
   ],
   "source": [
    "df.head()"
   ]
  },
  {
   "cell_type": "code",
   "execution_count": 5,
   "id": "3204d0b0",
   "metadata": {},
   "outputs": [
    {
     "data": {
      "text/html": [
       "<div>\n",
       "<style scoped>\n",
       "    .dataframe tbody tr th:only-of-type {\n",
       "        vertical-align: middle;\n",
       "    }\n",
       "\n",
       "    .dataframe tbody tr th {\n",
       "        vertical-align: top;\n",
       "    }\n",
       "\n",
       "    .dataframe thead th {\n",
       "        text-align: right;\n",
       "    }\n",
       "</style>\n",
       "<table border=\"1\" class=\"dataframe\">\n",
       "  <thead>\n",
       "    <tr style=\"text-align: right;\">\n",
       "      <th></th>\n",
       "      <th>Movie_Id</th>\n",
       "      <th>Year</th>\n",
       "      <th>Name</th>\n",
       "    </tr>\n",
       "  </thead>\n",
       "  <tbody>\n",
       "    <tr>\n",
       "      <th>0</th>\n",
       "      <td>1</td>\n",
       "      <td>2003.0</td>\n",
       "      <td>Dinosaur Planet</td>\n",
       "    </tr>\n",
       "    <tr>\n",
       "      <th>1</th>\n",
       "      <td>2</td>\n",
       "      <td>2004.0</td>\n",
       "      <td>Isle of Man TT 2004 Review</td>\n",
       "    </tr>\n",
       "    <tr>\n",
       "      <th>2</th>\n",
       "      <td>3</td>\n",
       "      <td>1997.0</td>\n",
       "      <td>Character</td>\n",
       "    </tr>\n",
       "    <tr>\n",
       "      <th>3</th>\n",
       "      <td>4</td>\n",
       "      <td>1994.0</td>\n",
       "      <td>Paula Abdul's Get Up &amp; Dance</td>\n",
       "    </tr>\n",
       "    <tr>\n",
       "      <th>4</th>\n",
       "      <td>5</td>\n",
       "      <td>2004.0</td>\n",
       "      <td>The Rise and Fall of ECW</td>\n",
       "    </tr>\n",
       "    <tr>\n",
       "      <th>5</th>\n",
       "      <td>6</td>\n",
       "      <td>1997.0</td>\n",
       "      <td>Sick</td>\n",
       "    </tr>\n",
       "    <tr>\n",
       "      <th>6</th>\n",
       "      <td>7</td>\n",
       "      <td>1992.0</td>\n",
       "      <td>8 Man</td>\n",
       "    </tr>\n",
       "    <tr>\n",
       "      <th>7</th>\n",
       "      <td>8</td>\n",
       "      <td>2004.0</td>\n",
       "      <td>What the #$*! Do We Know!?</td>\n",
       "    </tr>\n",
       "    <tr>\n",
       "      <th>8</th>\n",
       "      <td>9</td>\n",
       "      <td>1991.0</td>\n",
       "      <td>Class of Nuke 'Em High 2</td>\n",
       "    </tr>\n",
       "    <tr>\n",
       "      <th>9</th>\n",
       "      <td>10</td>\n",
       "      <td>2001.0</td>\n",
       "      <td>Fighter</td>\n",
       "    </tr>\n",
       "  </tbody>\n",
       "</table>\n",
       "</div>"
      ],
      "text/plain": [
       "   Movie_Id    Year                          Name\n",
       "0         1  2003.0               Dinosaur Planet\n",
       "1         2  2004.0    Isle of Man TT 2004 Review\n",
       "2         3  1997.0                     Character\n",
       "3         4  1994.0  Paula Abdul's Get Up & Dance\n",
       "4         5  2004.0      The Rise and Fall of ECW\n",
       "5         6  1997.0                          Sick\n",
       "6         7  1992.0                         8 Man\n",
       "7         8  2004.0    What the #$*! Do We Know!?\n",
       "8         9  1991.0      Class of Nuke 'Em High 2\n",
       "9        10  2001.0                       Fighter"
      ]
     },
     "execution_count": 5,
     "metadata": {},
     "output_type": "execute_result"
    }
   ],
   "source": [
    "# Loading movie_titles\n",
    "\n",
    "df_title = pd.read_csv('C:/Users/umar/Documents/Machine Learning/Recommender System/Data/movie_titles.csv', header = None, names = ['Movie_Id', 'Year', 'Name'])\n",
    "df_title.head(10)"
   ]
  },
  {
   "cell_type": "markdown",
   "id": "7ecd7031",
   "metadata": {},
   "source": [
    "### Data Analysis"
   ]
  },
  {
   "cell_type": "code",
   "execution_count": 6,
   "id": "17e4829c",
   "metadata": {},
   "outputs": [
    {
     "data": {
      "text/plain": [
       "0"
      ]
     },
     "execution_count": 6,
     "metadata": {},
     "output_type": "execute_result"
    }
   ],
   "source": [
    "# Finding missing values if any \n",
    "\n",
    "features_with_na = [i for i in df.columns if df[i].isnull().sum()>1]\n",
    "len(features_with_na)"
   ]
  },
  {
   "cell_type": "markdown",
   "id": "9d7d8a7d",
   "metadata": {},
   "source": [
    "Conclusion: I do not have any missing value in my data."
   ]
  },
  {
   "cell_type": "code",
   "execution_count": 7,
   "id": "710becf1",
   "metadata": {},
   "outputs": [
    {
     "data": {
      "image/png": "[encoded data removed]",
      "text/plain": [
       "<Figure size 1080x720 with 1 Axes>"
      ]
     },
     "metadata": {
      "needs_background": "light"
     },
     "output_type": "display_data"
    }
   ],
   "source": [
    "# Checking out the data spread\n",
    "\n",
    "p = df.groupby('Rating')['Rating'].agg(['count'])\n",
    "\n",
    "# get movie count\n",
    "movie_count = df['Movie_Id'].nunique()\n",
    "\n",
    "# get customer count\n",
    "cust_count = df['Cust_Id'].nunique()\n",
    "\n",
    "# get rating count\n",
    "rating_count = df['Cust_Id'].count()\n",
    "\n",
    "# Horizontal Bar plot\n",
    "ax = p.plot(kind = 'barh', legend = False, figsize = (15,10), color = 'aqua')\n",
    "plt.title('Total pool: {:,} Movies; {:,} customers; {:,} ratings given'.format(movie_count, cust_count, rating_count), fontsize=20)\n",
    "plt.axis('off')\n",
    "\n",
    "# Writing inside bar graph\n",
    "for i in range(1,6):\n",
    "    ax.text(p.iloc[i-1][0]/4, i-1, 'Rating {}: {:.0f}%'.format(i, p.iloc[i-1][0]*100 / p.sum()[0]), color = 'black', weight = 'bold')"
   ]
  },
  {
   "cell_type": "markdown",
   "id": "327a6dbf",
   "metadata": {},
   "source": [
    "Conclusion: We can see that the rating tends to be relatively positive (>=3). This may be due to the fact that unhappy customers tend to just leave instead of making efforts to rate."
   ]
  },
  {
   "cell_type": "code",
   "execution_count": 18,
   "id": "afb9a2e6",
   "metadata": {},
   "outputs": [
    {
     "name": "stdout",
     "output_type": "stream",
     "text": [
      "{4506: 2129, 9217: 1695, 8: 968, 13378: 797, 13370: 757, 5: 504, 13375: 458, 3: 357, 9212: 356, 13377: 338, 13374: 212, 4503: 188, 6: 153, 1: 145, 13368: 121, 9215: 71, 4501: 48, 2: 41, 13373: 38, 4500: 36, 13369: 36, 9216: 34, 4504: 27, 9214: 23, 13372: 20, 4: 19, 9213: 19, 13376: 14, 9211: 13, 13371: 9, 4505: 6, 4502: 5, 7: 3}\n"
     ]
    }
   ],
   "source": [
    "# Finding the movies with highest number of 5 ratings\n",
    "\n",
    "movies = df['Movie_Id'].unique()\n",
    "rating_five = {}\n",
    "for i in movies:\n",
    "    rating_five[i]=0\n",
    "for index,row in df.iterrows():\n",
    "    if(row['Rating']==5):\n",
    "        rating_five[row['Movie_Id']]+=1;\n",
    "\n",
    "sorted_rating_five = {}\n",
    "sorted_keys = sorted(rating_five, key=rating_five.get, reverse=True)\n",
    "for i in sorted_keys:\n",
    "    sorted_rating_five[i]=rating_five[i]\n",
    "print(sorted_rating_five)"
   ]
  },
  {
   "cell_type": "markdown",
   "id": "a794acbe",
   "metadata": {},
   "source": [
    "We can see, Movie with Id=4506 is the movie with the most 5 ratings and Movie with Id=7 is the movie with the least 5 ratings."
   ]
  },
  {
   "cell_type": "code",
   "execution_count": 36,
   "id": "9228e1e0",
   "metadata": {},
   "outputs": [
    {
     "data": {
      "text/plain": [
       "Text(0.5, 1.0, 'Movie with the most number of 5 Rating')"
      ]
     },
     "execution_count": 36,
     "metadata": {},
     "output_type": "execute_result"
    },
    {
     "data": {
      "image/png": "[encoded data removed]",
      "text/plain": [
       "<Figure size 1080x288 with 1 Axes>"
      ]
     },
     "metadata": {
      "needs_background": "light"
     },
     "output_type": "display_data"
    }
   ],
   "source": [
    "# Plotting these movies\n",
    "\n",
    "x=[]\n",
    "k=0;\n",
    "for i in sorted_rating_five:\n",
    "    if(k==5):\n",
    "        break\n",
    "    k+=1\n",
    "    x.append(df_title['Name'][i-1])  # (i-1) because the index starts from 0\n",
    "y=[]\n",
    "k=0;\n",
    "for i in sorted_rating_five:\n",
    "    if(k==5):\n",
    "        break\n",
    "    k+=1\n",
    "    y.append(sorted_rating_five[i])\n",
    "f=plt.figure()\n",
    "f.set_figwidth(15)\n",
    "plt.bar(x, y, color = 'orange')\n",
    "plt.xlabel('Movie Title')\n",
    "plt.ylabel('Count of 5 ratings')\n",
    "plt.title('Movie with the most number of 5 Rating')\n"
   ]
  },
  {
   "cell_type": "markdown",
   "id": "556c00d4",
   "metadata": {},
   "source": [
    "Conclusion: Breakfast at Tiffany's is the most liked movie amongst all the users(rating-wise)."
   ]
  }
 ],
 "metadata": {
  "kernelspec": {
   "display_name": "Python 3",
   "language": "python",
   "name": "python3"
  },
  "language_info": {
   "codemirror_mode": {
    "name": "ipython",
    "version": 3
   },
   "file_extension": ".py",
   "mimetype": "text/x-python",
   "name": "python",
   "nbconvert_exporter": "python",
   "pygments_lexer": "ipython3",
   "version": "3.8.8"
  }
 },
 "nbformat": 4,
 "nbformat_minor": 5
}
