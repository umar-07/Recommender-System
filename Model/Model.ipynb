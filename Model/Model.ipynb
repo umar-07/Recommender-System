{
 "cells": [
  {
   "cell_type": "markdown",
   "id": "2e948346",
   "metadata": {},
   "source": [
    "# Implementing the Model"
   ]
  },
  {
   "cell_type": "code",
   "execution_count": 6,
   "id": "b865366a",
   "metadata": {},
   "outputs": [],
   "source": [
    "# Importing Libraires\n",
    "\n",
    "import pandas as pd\n",
    "import numpy as np\n",
    "import matplotlib.pyplot as plt\n",
    "import seaborn as sns\n",
    "%matplotlib inline"
   ]
  },
  {
   "cell_type": "code",
   "execution_count": 7,
   "id": "9281bf7b",
   "metadata": {},
   "outputs": [],
   "source": [
    "# Loading the data\n",
    "\n",
    "df = pd.read_csv('C:/Users/umar/Documents/Machine Learning/Recommender System/Data Analysis/data.csv', index_col=0)\n",
    "df.shape\n",
    "\n",
    "df_title = pd.read_csv('C:/Users/umar/Documents/Machine Learning/Recommender System/Data/movie_titles.csv', header = None, names = ['Movie_Id', 'Year', 'Name'])"
   ]
  },
  {
   "cell_type": "code",
   "execution_count": 8,
   "id": "14b4659a",
   "metadata": {},
   "outputs": [
    {
     "data": {
      "text/html": [
       "<div>\n",
       "<style scoped>\n",
       "    .dataframe tbody tr th:only-of-type {\n",
       "        vertical-align: middle;\n",
       "    }\n",
       "\n",
       "    .dataframe tbody tr th {\n",
       "        vertical-align: top;\n",
       "    }\n",
       "\n",
       "    .dataframe thead th {\n",
       "        text-align: right;\n",
       "    }\n",
       "</style>\n",
       "<table border=\"1\" class=\"dataframe\">\n",
       "  <thead>\n",
       "    <tr style=\"text-align: right;\">\n",
       "      <th></th>\n",
       "      <th>Cust_Id</th>\n",
       "      <th>Movie_Id</th>\n",
       "      <th>Rating</th>\n",
       "      <th>Date</th>\n",
       "    </tr>\n",
       "  </thead>\n",
       "  <tbody>\n",
       "    <tr>\n",
       "      <th>0</th>\n",
       "      <td>1488844</td>\n",
       "      <td>1</td>\n",
       "      <td>3.0</td>\n",
       "      <td>2005-09-06</td>\n",
       "    </tr>\n",
       "    <tr>\n",
       "      <th>1</th>\n",
       "      <td>822109</td>\n",
       "      <td>1</td>\n",
       "      <td>5.0</td>\n",
       "      <td>2005-05-13</td>\n",
       "    </tr>\n",
       "    <tr>\n",
       "      <th>2</th>\n",
       "      <td>885013</td>\n",
       "      <td>1</td>\n",
       "      <td>4.0</td>\n",
       "      <td>2005-10-19</td>\n",
       "    </tr>\n",
       "    <tr>\n",
       "      <th>3</th>\n",
       "      <td>30878</td>\n",
       "      <td>1</td>\n",
       "      <td>4.0</td>\n",
       "      <td>2005-12-26</td>\n",
       "    </tr>\n",
       "    <tr>\n",
       "      <th>4</th>\n",
       "      <td>823519</td>\n",
       "      <td>1</td>\n",
       "      <td>3.0</td>\n",
       "      <td>2004-05-03</td>\n",
       "    </tr>\n",
       "  </tbody>\n",
       "</table>\n",
       "</div>"
      ],
      "text/plain": [
       "   Cust_Id  Movie_Id  Rating        Date\n",
       "0  1488844         1     3.0  2005-09-06\n",
       "1   822109         1     5.0  2005-05-13\n",
       "2   885013         1     4.0  2005-10-19\n",
       "3    30878         1     4.0  2005-12-26\n",
       "4   823519         1     3.0  2004-05-03"
      ]
     },
     "execution_count": 8,
     "metadata": {},
     "output_type": "execute_result"
    }
   ],
   "source": [
    "df.head()"
   ]
  },
  {
   "cell_type": "code",
   "execution_count": 9,
   "id": "bf3bea99",
   "metadata": {},
   "outputs": [
    {
     "data": {
      "text/plain": [
       "(39967, 4)"
      ]
     },
     "execution_count": 9,
     "metadata": {},
     "output_type": "execute_result"
    }
   ],
   "source": [
    "df.shape"
   ]
  },
  {
   "cell_type": "code",
   "execution_count": 10,
   "id": "bf7ac86c",
   "metadata": {},
   "outputs": [],
   "source": [
    "# Impoting Surprise Library\n",
    "\n",
    "from surprise import Reader, Dataset, SVD\n",
    "from surprise.model_selection.validation import cross_validate"
   ]
  },
  {
   "cell_type": "code",
   "execution_count": 11,
   "id": "797f4802",
   "metadata": {},
   "outputs": [],
   "source": [
    "reader = Reader()    # Used to parse a file containing user, item, rating\n",
    "data = Dataset.load_from_df(df[['Cust_Id', 'Movie_Id', 'Rating']], reader)\n",
    "svd = SVD()"
   ]
  },
  {
   "cell_type": "markdown",
   "id": "7db63ff2",
   "metadata": {},
   "source": [
    "The data and model for product recommendation are ready, the model can be evaluated using cross-validation."
   ]
  },
  {
   "cell_type": "code",
   "execution_count": 24,
   "id": "7dd54e38",
   "metadata": {},
   "outputs": [
    {
     "name": "stdout",
     "output_type": "stream",
     "text": [
      "Evaluating RMSE, MAE of algorithm SVD on 5 split(s).\n",
      "\n",
      "                  Fold 1  Fold 2  Fold 3  Fold 4  Fold 5  Mean    Std     \n",
      "RMSE (testset)    1.1010  1.0943  1.1084  1.1088  1.1092  1.1043  0.0059  \n",
      "MAE (testset)     0.8845  0.8786  0.8913  0.8952  0.9027  0.8905  0.0084  \n",
      "Fit time          2.52    2.59    2.59    2.60    2.74    2.61    0.07    \n",
      "Test time         0.06    0.06    0.06    0.06    0.06    0.06    0.00    \n"
     ]
    },
    {
     "data": {
      "text/plain": [
       "{'test_rmse': array([1.10095127, 1.09433747, 1.10840387, 1.10876494, 1.10920718]),\n",
       " 'test_mae': array([0.88454936, 0.87855046, 0.89130148, 0.89524996, 0.90274011]),\n",
       " 'fit_time': (2.5208308696746826,\n",
       "  2.58854079246521,\n",
       "  2.5889058113098145,\n",
       "  2.602389097213745,\n",
       "  2.737495183944702),\n",
       " 'test_time': (0.05905413627624512,\n",
       "  0.060042619705200195,\n",
       "  0.059040069580078125,\n",
       "  0.059041500091552734,\n",
       "  0.060044050216674805)}"
      ]
     },
     "execution_count": 24,
     "metadata": {},
     "output_type": "execute_result"
    }
   ],
   "source": [
    "# Run 5-fold cross-validation\n",
    "cross_validate(svd, data, measures=['RMSE', 'MAE'], cv=5, verbose=True)"
   ]
  },
  {
   "cell_type": "markdown",
   "id": "79dbd698",
   "metadata": {},
   "source": [
    "#### Conlusion: RMSE= 1.1043 , MAE=0.8905, so we can say our model is working quite accurately."
   ]
  },
  {
   "cell_type": "code",
   "execution_count": 13,
   "id": "34361c67",
   "metadata": {},
   "outputs": [
    {
     "data": {
      "text/plain": [
       "<surprise.prediction_algorithms.matrix_factorization.SVD at 0xcce7722f70>"
      ]
     },
     "execution_count": 13,
     "metadata": {},
     "output_type": "execute_result"
    }
   ],
   "source": [
    "# Training on whole-dataset\n",
    "trainset = data.build_full_trainset()\n",
    "svd.fit(trainset)"
   ]
  },
  {
   "cell_type": "markdown",
   "id": "64f277f6",
   "metadata": {},
   "source": [
    "## RECOMMENDING MOVIES"
   ]
  },
  {
   "cell_type": "code",
   "execution_count": 26,
   "id": "3a38c625",
   "metadata": {},
   "outputs": [
    {
     "data": {
      "text/html": [
       "<div>\n",
       "<style scoped>\n",
       "    .dataframe tbody tr th:only-of-type {\n",
       "        vertical-align: middle;\n",
       "    }\n",
       "\n",
       "    .dataframe tbody tr th {\n",
       "        vertical-align: top;\n",
       "    }\n",
       "\n",
       "    .dataframe thead th {\n",
       "        text-align: right;\n",
       "    }\n",
       "</style>\n",
       "<table border=\"1\" class=\"dataframe\">\n",
       "  <thead>\n",
       "    <tr style=\"text-align: right;\">\n",
       "      <th></th>\n",
       "      <th>Movie_Id</th>\n",
       "      <th>Year</th>\n",
       "      <th>Name</th>\n",
       "      <th>Predicted_Rating</th>\n",
       "    </tr>\n",
       "  </thead>\n",
       "  <tbody>\n",
       "    <tr>\n",
       "      <th>4</th>\n",
       "      <td>5</td>\n",
       "      <td>2004.0</td>\n",
       "      <td>The Rise and Fall of ECW</td>\n",
       "      <td>4.039186</td>\n",
       "    </tr>\n",
       "    <tr>\n",
       "      <th>5</th>\n",
       "      <td>6</td>\n",
       "      <td>1997.0</td>\n",
       "      <td>Sick</td>\n",
       "      <td>3.923807</td>\n",
       "    </tr>\n",
       "    <tr>\n",
       "      <th>13373</th>\n",
       "      <td>13374</td>\n",
       "      <td>1933.0</td>\n",
       "      <td>Dinner at Eight</td>\n",
       "      <td>3.891943</td>\n",
       "    </tr>\n",
       "    <tr>\n",
       "      <th>13376</th>\n",
       "      <td>13377</td>\n",
       "      <td>1963.0</td>\n",
       "      <td>Winter Light</td>\n",
       "      <td>3.884122</td>\n",
       "    </tr>\n",
       "    <tr>\n",
       "      <th>2</th>\n",
       "      <td>3</td>\n",
       "      <td>1997.0</td>\n",
       "      <td>Character</td>\n",
       "      <td>3.754032</td>\n",
       "    </tr>\n",
       "    <tr>\n",
       "      <th>4505</th>\n",
       "      <td>4506</td>\n",
       "      <td>1961.0</td>\n",
       "      <td>Breakfast at Tiffany's</td>\n",
       "      <td>3.649750</td>\n",
       "    </tr>\n",
       "    <tr>\n",
       "      <th>1</th>\n",
       "      <td>2</td>\n",
       "      <td>2004.0</td>\n",
       "      <td>Isle of Man TT 2004 Review</td>\n",
       "      <td>3.609378</td>\n",
       "    </tr>\n",
       "    <tr>\n",
       "      <th>13369</th>\n",
       "      <td>13370</td>\n",
       "      <td>2002.0</td>\n",
       "      <td>Justice League: Paradise Lost</td>\n",
       "      <td>3.609206</td>\n",
       "    </tr>\n",
       "    <tr>\n",
       "      <th>13374</th>\n",
       "      <td>13375</td>\n",
       "      <td>1963.0</td>\n",
       "      <td>Andy Griffith Show: Classic Favorites</td>\n",
       "      <td>3.569778</td>\n",
       "    </tr>\n",
       "    <tr>\n",
       "      <th>13368</th>\n",
       "      <td>13369</td>\n",
       "      <td>2002.0</td>\n",
       "      <td>PRIDE Fighting Championships: Cold Fury 2</td>\n",
       "      <td>3.526530</td>\n",
       "    </tr>\n",
       "  </tbody>\n",
       "</table>\n",
       "</div>"
      ],
      "text/plain": [
       "       Movie_Id    Year                                       Name  \\\n",
       "4             5  2004.0                   The Rise and Fall of ECW   \n",
       "5             6  1997.0                                       Sick   \n",
       "13373     13374  1933.0                            Dinner at Eight   \n",
       "13376     13377  1963.0                               Winter Light   \n",
       "2             3  1997.0                                  Character   \n",
       "4505       4506  1961.0                     Breakfast at Tiffany's   \n",
       "1             2  2004.0                 Isle of Man TT 2004 Review   \n",
       "13369     13370  2002.0              Justice League: Paradise Lost   \n",
       "13374     13375  1963.0      Andy Griffith Show: Classic Favorites   \n",
       "13368     13369  2002.0  PRIDE Fighting Championships: Cold Fury 2   \n",
       "\n",
       "       Predicted_Rating  \n",
       "4              4.039186  \n",
       "5              3.923807  \n",
       "13373          3.891943  \n",
       "13376          3.884122  \n",
       "2              3.754032  \n",
       "4505           3.649750  \n",
       "1              3.609378  \n",
       "13369          3.609206  \n",
       "13374          3.569778  \n",
       "13368          3.526530  "
      ]
     },
     "execution_count": 26,
     "metadata": {},
     "output_type": "execute_result"
    }
   ],
   "source": [
    "# Let's Recommend movies to a user Y (here Y=1488844)\n",
    "\n",
    "titles = df_title.copy()\n",
    "titles['Predicted_Rating'] = titles['Movie_Id'].apply(lambda x: svd.predict(1488844, x).est)\n",
    "titles = titles.sort_values(by=['Predicted_Rating'], ascending=False)\n",
    "titles.head(10)"
   ]
  },
  {
   "cell_type": "markdown",
   "id": "c5d70abd",
   "metadata": {},
   "source": [
    "Conclusion: User 1488844 has been recommended a lots of \"Romantic\" movies, he might like this genre more than other"
   ]
  },
  {
   "cell_type": "markdown",
   "id": "79d0d6eb",
   "metadata": {},
   "source": [
    "### Hyperparameter tuning"
   ]
  },
  {
   "cell_type": "code",
   "execution_count": 23,
   "id": "ca814887",
   "metadata": {},
   "outputs": [
    {
     "name": "stdout",
     "output_type": "stream",
     "text": [
      "1.1033564564981408\n",
      "{'n_epochs': 15, 'lr_all': 0.005, 'reg_all': 0.4}\n"
     ]
    }
   ],
   "source": [
    "from surprise import SVD\n",
    "from surprise.model_selection import GridSearchCV\n",
    "param_grid = {'n_epochs': [5, 10, 15], 'lr_all': [0.001, 0.002, 0.005],'reg_all': [0.4, 0.5, 0.6]}\n",
    "gs = GridSearchCV(SVD, param_grid, measures=['rmse', 'mae'], cv=5)\n",
    "gs.fit(data)\n",
    "\n",
    "# best RMSE score\n",
    "print(gs.best_score['rmse'])\n",
    "\n",
    "# combination of parameters that gave the best RMSE score\n",
    "print(gs.best_params['rmse'])"
   ]
  },
  {
   "cell_type": "code",
   "execution_count": 21,
   "id": "357ca788",
   "metadata": {},
   "outputs": [
    {
     "data": {
      "text/plain": [
       "<surprise.prediction_algorithms.matrix_factorization.SVD at 0xccea1d4e80>"
      ]
     },
     "execution_count": 21,
     "metadata": {},
     "output_type": "execute_result"
    }
   ],
   "source": [
    "algo = gs.best_estimator['rmse']\n",
    "algo.fit(data.build_full_trainset())"
   ]
  },
  {
   "cell_type": "code",
   "execution_count": 25,
   "id": "ddbd6ffa",
   "metadata": {},
   "outputs": [
    {
     "data": {
      "text/html": [
       "<div>\n",
       "<style scoped>\n",
       "    .dataframe tbody tr th:only-of-type {\n",
       "        vertical-align: middle;\n",
       "    }\n",
       "\n",
       "    .dataframe tbody tr th {\n",
       "        vertical-align: top;\n",
       "    }\n",
       "\n",
       "    .dataframe thead th {\n",
       "        text-align: right;\n",
       "    }\n",
       "</style>\n",
       "<table border=\"1\" class=\"dataframe\">\n",
       "  <thead>\n",
       "    <tr style=\"text-align: right;\">\n",
       "      <th></th>\n",
       "      <th>Movie_Id</th>\n",
       "      <th>Year</th>\n",
       "      <th>Name</th>\n",
       "      <th>Predicted_Rating</th>\n",
       "    </tr>\n",
       "  </thead>\n",
       "  <tbody>\n",
       "    <tr>\n",
       "      <th>13374</th>\n",
       "      <td>13375</td>\n",
       "      <td>1963.0</td>\n",
       "      <td>Andy Griffith Show: Classic Favorites</td>\n",
       "      <td>3.705632</td>\n",
       "    </tr>\n",
       "    <tr>\n",
       "      <th>4505</th>\n",
       "      <td>4506</td>\n",
       "      <td>1961.0</td>\n",
       "      <td>Breakfast at Tiffany's</td>\n",
       "      <td>3.696319</td>\n",
       "    </tr>\n",
       "    <tr>\n",
       "      <th>4</th>\n",
       "      <td>5</td>\n",
       "      <td>2004.0</td>\n",
       "      <td>The Rise and Fall of ECW</td>\n",
       "      <td>3.684469</td>\n",
       "    </tr>\n",
       "    <tr>\n",
       "      <th>13377</th>\n",
       "      <td>13378</td>\n",
       "      <td>1940.0</td>\n",
       "      <td>His Girl Friday</td>\n",
       "      <td>3.651687</td>\n",
       "    </tr>\n",
       "    <tr>\n",
       "      <th>13373</th>\n",
       "      <td>13374</td>\n",
       "      <td>1933.0</td>\n",
       "      <td>Dinner at Eight</td>\n",
       "      <td>3.632090</td>\n",
       "    </tr>\n",
       "    <tr>\n",
       "      <th>0</th>\n",
       "      <td>1</td>\n",
       "      <td>2003.0</td>\n",
       "      <td>Dinosaur Planet</td>\n",
       "      <td>3.624022</td>\n",
       "    </tr>\n",
       "    <tr>\n",
       "      <th>13376</th>\n",
       "      <td>13377</td>\n",
       "      <td>1963.0</td>\n",
       "      <td>Winter Light</td>\n",
       "      <td>3.622609</td>\n",
       "    </tr>\n",
       "    <tr>\n",
       "      <th>9211</th>\n",
       "      <td>9212</td>\n",
       "      <td>1994.0</td>\n",
       "      <td>Sailor Moon S</td>\n",
       "      <td>3.607310</td>\n",
       "    </tr>\n",
       "    <tr>\n",
       "      <th>13369</th>\n",
       "      <td>13370</td>\n",
       "      <td>2002.0</td>\n",
       "      <td>Justice League: Paradise Lost</td>\n",
       "      <td>3.587267</td>\n",
       "    </tr>\n",
       "    <tr>\n",
       "      <th>2</th>\n",
       "      <td>3</td>\n",
       "      <td>1997.0</td>\n",
       "      <td>Character</td>\n",
       "      <td>3.553991</td>\n",
       "    </tr>\n",
       "  </tbody>\n",
       "</table>\n",
       "</div>"
      ],
      "text/plain": [
       "       Movie_Id    Year                                   Name  \\\n",
       "13374     13375  1963.0  Andy Griffith Show: Classic Favorites   \n",
       "4505       4506  1961.0                 Breakfast at Tiffany's   \n",
       "4             5  2004.0               The Rise and Fall of ECW   \n",
       "13377     13378  1940.0                        His Girl Friday   \n",
       "13373     13374  1933.0                        Dinner at Eight   \n",
       "0             1  2003.0                        Dinosaur Planet   \n",
       "13376     13377  1963.0                           Winter Light   \n",
       "9211       9212  1994.0                          Sailor Moon S   \n",
       "13369     13370  2002.0          Justice League: Paradise Lost   \n",
       "2             3  1997.0                              Character   \n",
       "\n",
       "       Predicted_Rating  \n",
       "13374          3.705632  \n",
       "4505           3.696319  \n",
       "4              3.684469  \n",
       "13377          3.651687  \n",
       "13373          3.632090  \n",
       "0              3.624022  \n",
       "13376          3.622609  \n",
       "9211           3.607310  \n",
       "13369          3.587267  \n",
       "2              3.553991  "
      ]
     },
     "execution_count": 25,
     "metadata": {},
     "output_type": "execute_result"
    }
   ],
   "source": [
    "# Let's Recommend movies to a user Y (here Y=1488844)\n",
    "\n",
    "titles = df_title.copy()\n",
    "titles['Predicted_Rating'] = titles['Movie_Id'].apply(lambda x: algo.predict(1488844, x).est)\n",
    "titles = titles.sort_values(by=['Predicted_Rating'], ascending=False)\n",
    "titles.head(10)"
   ]
  },
  {
   "cell_type": "markdown",
   "id": "96f4aa13",
   "metadata": {},
   "source": [
    "CONCLUSION: As we can clearly see the new predictions are a bit different from the previous predictions(improved). \n",
    "\n",
    "For instance the movie \"Andy Griffith Show: Classic Favorites\" is Ranked 9th in previous prediction but Ranked 1st in the new prediction.\n",
    "\n",
    "Using HyperParameter Tuning increased the accuracy of the model and reduced the RMSE from 1.1043 to 1.1033 which is 0.1% decrease."
   ]
  }
 ],
 "metadata": {
  "kernelspec": {
   "display_name": "Python 3",
   "language": "python",
   "name": "python3"
  },
  "language_info": {
   "codemirror_mode": {
    "name": "ipython",
    "version": 3
   },
   "file_extension": ".py",
   "mimetype": "text/x-python",
   "name": "python",
   "nbconvert_exporter": "python",
   "pygments_lexer": "ipython3",
   "version": "3.8.8"
  }
 },
 "nbformat": 4,
 "nbformat_minor": 5
}
